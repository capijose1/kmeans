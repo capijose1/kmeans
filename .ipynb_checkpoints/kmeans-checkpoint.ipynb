{
 "cells": [
  {
   "cell_type": "code",
   "execution_count": 1,
   "id": "27b8f7cd-9c9e-4351-8498-f1723b58b904",
   "metadata": {},
   "outputs": [
    {
     "name": "stdout",
     "output_type": "stream",
     "text": [
      "Termino de cargar la data\n"
     ]
    }
   ],
   "source": [
    "import numpy as np\n",
    "import matplotlib.pyplot as plt\n",
    "import matplotlib.animation as animation\n",
    "import random as rn\n",
    "import pandas as pd\n",
    "from matplotlib.pyplot import scatter\n",
    "from matplotlib import style\n",
    "df = pd.read_csv(\"data.csv\")#,nrows=1000\n",
    "print(\"Termino de cargar la data\")"
   ]
  },
  {
   "cell_type": "code",
   "execution_count": 15,
   "id": "8ca55636-bd0f-4f77-bfc1-23d8cf5db9c1",
   "metadata": {},
   "outputs": [],
   "source": [
    "aleatorios=len(df)\n",
    "arreglo_numpy=df[['Start_Lon','Start_Lat']].to_numpy()\n",
    "muestra=10000\n",
    "lista=[]\n",
    "for i in range(muestra):\n",
    "    lista.append(arreglo_numpy[i])\n",
    "lista=np.asarray(lista)"
   ]
  },
  {
   "cell_type": "code",
   "execution_count": 19,
   "id": "4450962d-0b14-4253-afd2-03d0bc24c749",
   "metadata": {},
   "outputs": [],
   "source": [
    "def euclidian(a, b):\n",
    "    return np.linalg.norm(a-b)\n",
    "def plot(datos, h_centroides, pertenece):\n",
    "    colors = ['r', 'g','b','c','y']\n",
    "    fig, ax = plt.subplots()\n",
    "    for index in range(datos.shape[0]):\n",
    "        instancias_cercanas = [i for i in range(len(pertenece)) if pertenece[i] == index]\n",
    "        for i_instancia in instancias_cercanas:\n",
    "            ax.plot(datos[i_instancia][0], datos[i_instancia][1], (colors[index] + 'o'))\n",
    "\n",
    "    history_points = []\n",
    "    for index, centroides in enumerate(h_centroides):\n",
    "        for inner, item in enumerate(centroides):\n",
    "            if index == 0:\n",
    "                history_points.append(ax.plot(item[0], item[1], 'bo')[0])\n",
    "            else:\n",
    "                history_points[inner].set_data(item[0], item[1])\n",
    "                #print(\"Centroides\",index,item)\n",
    "    plt.savefig('plot.png')\n",
    "    plt.show()"
   ]
  },
  {
   "cell_type": "code",
   "execution_count": 20,
   "id": "c07e2be7-4583-42af-a902-0c8fdd006356",
   "metadata": {},
   "outputs": [],
   "source": [
    "def kmeans(k, epsilon=0):\n",
    "    h_centroides = []\n",
    "    num_instancias, num_features = lista.shape\n",
    "    prototypes = lista[np.random.randint(0, num_instancias - 1, size=k)]\n",
    "    h_centroides.append(prototypes)\n",
    "    prototypes_old = np.zeros(prototypes.shape)\n",
    "    pertenece = np.zeros((num_instancias, 1))\n",
    "    norm = euclidian(prototypes, prototypes_old)\n",
    "    iteration = 0\n",
    "    while norm > epsilon:\n",
    "        iteration += 1\n",
    "        norm = euclidian(prototypes, prototypes_old)\n",
    "        prototypes_old = prototypes\n",
    "        for index_instance, instance in enumerate(lista):\n",
    "            dist_vec = np.zeros((k, 1))\n",
    "            for index_prototype, prototype in enumerate(prototypes):\n",
    "                dist_vec[index_prototype] = euclidian(prototype,instance)\n",
    "            pertenece[index_instance, 0] = np.argmin(dist_vec)\n",
    "        tmp_prototypes = np.zeros((k, num_features))\n",
    "        for index in range(len(prototypes)):\n",
    "            instancias_cercanas = [i for i in range(len(pertenece)) if pertenece[i] == index]\n",
    "            prototype = np.mean(lista[instancias_cercanas], axis=0)\n",
    "            tmp_prototypes[index, :] = prototype\n",
    "        prototypes = tmp_prototypes\n",
    "        h_centroides.append(tmp_prototypes)\n",
    "    return prototypes, h_centroides, pertenece"
   ]
  },
  {
   "cell_type": "code",
   "execution_count": 21,
   "id": "1897ad9f-9800-4ee9-af50-a56869a22ce7",
   "metadata": {},
   "outputs": [
    {
     "data": {
      "image/png": "[encoded data removed]",
      "text/plain": [
       "<Figure size 432x288 with 1 Axes>"
      ]
     },
     "metadata": {
      "needs_background": "light"
     },
     "output_type": "display_data"
    }
   ],
   "source": [
    "centroides, h_centroides, pertenece = kmeans(3)\n",
    "plot(lista, h_centroides, pertenece)"
   ]
  },
  {
   "cell_type": "code",
   "execution_count": null,
   "id": "2b48ba25-d27d-45fc-8131-d84ed09aee33",
   "metadata": {},
   "outputs": [],
   "source": []
  }
 ],
 "metadata": {
  "kernelspec": {
   "display_name": "Python 3",
   "language": "python",
   "name": "python3"
  },
  "language_info": {
   "codemirror_mode": {
    "name": "ipython",
    "version": 3
   },
   "file_extension": ".py",
   "mimetype": "text/x-python",
   "name": "python",
   "nbconvert_exporter": "python",
   "pygments_lexer": "ipython3",
   "version": "3.9.5"
  }
 },
 "nbformat": 4,
 "nbformat_minor": 5
}
